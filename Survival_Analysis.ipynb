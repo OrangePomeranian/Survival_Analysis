{
  "nbformat": 4,
  "nbformat_minor": 0,
  "metadata": {
    "colab": {
      "provenance": []
    },
    "kernelspec": {
      "name": "python3",
      "display_name": "Python 3"
    },
    "language_info": {
      "name": "python"
    }
  },
  "cells": [
    {
      "cell_type": "code",
      "execution_count": 63,
      "metadata": {
        "id": "WyyAmwkDxyyB"
      },
      "outputs": [],
      "source": [
        "import pandas as pd\n",
        "from matplotlib import pyplot as plt\n",
        "from datetime import date\n",
        "from datetime import datetime"
      ]
    },
    {
      "cell_type": "markdown",
      "source": [
        "## Data cleaning"
      ],
      "metadata": {
        "id": "Wr0zIDjfCJwv"
      }
    },
    {
      "cell_type": "code",
      "source": [
        "data = pd.read_csv(\"http://theta.edu.pl/wp-content/uploads/2020/01/Aids2.csv\", sep = ';')\n",
        "data.head()"
      ],
      "metadata": {
        "colab": {
          "base_uri": "https://localhost:8080/",
          "height": 206
        },
        "id": "rQ6StpvIx8iI",
        "outputId": "41e42d73-e64b-42fd-8a2f-13bb3a84ab4c"
      },
      "execution_count": 76,
      "outputs": [
        {
          "output_type": "execute_result",
          "data": {
            "text/plain": [
              "  sex        diag       death status  age  Unnamed: 5\n",
              "0   M  1929-11-08  1930-05-03      D   35         NaN\n",
              "1   M  1930-03-12  1930-05-18      D   53         NaN\n",
              "2   M  1926-02-23  1927-05-01      D   42         NaN\n",
              "3   M  1926-03-21  1926-06-06      D   44         NaN\n",
              "4   M  1927-06-02  1928-03-03      D   39         NaN"
            ],
            "text/html": [
              "\n",
              "  <div id=\"df-9c60f7be-895f-41d2-b93e-126554dab4b6\">\n",
              "    <div class=\"colab-df-container\">\n",
              "      <div>\n",
              "<style scoped>\n",
              "    .dataframe tbody tr th:only-of-type {\n",
              "        vertical-align: middle;\n",
              "    }\n",
              "\n",
              "    .dataframe tbody tr th {\n",
              "        vertical-align: top;\n",
              "    }\n",
              "\n",
              "    .dataframe thead th {\n",
              "        text-align: right;\n",
              "    }\n",
              "</style>\n",
              "<table border=\"1\" class=\"dataframe\">\n",
              "  <thead>\n",
              "    <tr style=\"text-align: right;\">\n",
              "      <th></th>\n",
              "      <th>sex</th>\n",
              "      <th>diag</th>\n",
              "      <th>death</th>\n",
              "      <th>status</th>\n",
              "      <th>age</th>\n",
              "      <th>Unnamed: 5</th>\n",
              "    </tr>\n",
              "  </thead>\n",
              "  <tbody>\n",
              "    <tr>\n",
              "      <th>0</th>\n",
              "      <td>M</td>\n",
              "      <td>1929-11-08</td>\n",
              "      <td>1930-05-03</td>\n",
              "      <td>D</td>\n",
              "      <td>35</td>\n",
              "      <td>NaN</td>\n",
              "    </tr>\n",
              "    <tr>\n",
              "      <th>1</th>\n",
              "      <td>M</td>\n",
              "      <td>1930-03-12</td>\n",
              "      <td>1930-05-18</td>\n",
              "      <td>D</td>\n",
              "      <td>53</td>\n",
              "      <td>NaN</td>\n",
              "    </tr>\n",
              "    <tr>\n",
              "      <th>2</th>\n",
              "      <td>M</td>\n",
              "      <td>1926-02-23</td>\n",
              "      <td>1927-05-01</td>\n",
              "      <td>D</td>\n",
              "      <td>42</td>\n",
              "      <td>NaN</td>\n",
              "    </tr>\n",
              "    <tr>\n",
              "      <th>3</th>\n",
              "      <td>M</td>\n",
              "      <td>1926-03-21</td>\n",
              "      <td>1926-06-06</td>\n",
              "      <td>D</td>\n",
              "      <td>44</td>\n",
              "      <td>NaN</td>\n",
              "    </tr>\n",
              "    <tr>\n",
              "      <th>4</th>\n",
              "      <td>M</td>\n",
              "      <td>1927-06-02</td>\n",
              "      <td>1928-03-03</td>\n",
              "      <td>D</td>\n",
              "      <td>39</td>\n",
              "      <td>NaN</td>\n",
              "    </tr>\n",
              "  </tbody>\n",
              "</table>\n",
              "</div>\n",
              "      <button class=\"colab-df-convert\" onclick=\"convertToInteractive('df-9c60f7be-895f-41d2-b93e-126554dab4b6')\"\n",
              "              title=\"Convert this dataframe to an interactive table.\"\n",
              "              style=\"display:none;\">\n",
              "        \n",
              "  <svg xmlns=\"http://www.w3.org/2000/svg\" height=\"24px\"viewBox=\"0 0 24 24\"\n",
              "       width=\"24px\">\n",
              "    <path d=\"M0 0h24v24H0V0z\" fill=\"none\"/>\n",
              "    <path d=\"M18.56 5.44l.94 2.06.94-2.06 2.06-.94-2.06-.94-.94-2.06-.94 2.06-2.06.94zm-11 1L8.5 8.5l.94-2.06 2.06-.94-2.06-.94L8.5 2.5l-.94 2.06-2.06.94zm10 10l.94 2.06.94-2.06 2.06-.94-2.06-.94-.94-2.06-.94 2.06-2.06.94z\"/><path d=\"M17.41 7.96l-1.37-1.37c-.4-.4-.92-.59-1.43-.59-.52 0-1.04.2-1.43.59L10.3 9.45l-7.72 7.72c-.78.78-.78 2.05 0 2.83L4 21.41c.39.39.9.59 1.41.59.51 0 1.02-.2 1.41-.59l7.78-7.78 2.81-2.81c.8-.78.8-2.07 0-2.86zM5.41 20L4 18.59l7.72-7.72 1.47 1.35L5.41 20z\"/>\n",
              "  </svg>\n",
              "      </button>\n",
              "      \n",
              "  <style>\n",
              "    .colab-df-container {\n",
              "      display:flex;\n",
              "      flex-wrap:wrap;\n",
              "      gap: 12px;\n",
              "    }\n",
              "\n",
              "    .colab-df-convert {\n",
              "      background-color: #E8F0FE;\n",
              "      border: none;\n",
              "      border-radius: 50%;\n",
              "      cursor: pointer;\n",
              "      display: none;\n",
              "      fill: #1967D2;\n",
              "      height: 32px;\n",
              "      padding: 0 0 0 0;\n",
              "      width: 32px;\n",
              "    }\n",
              "\n",
              "    .colab-df-convert:hover {\n",
              "      background-color: #E2EBFA;\n",
              "      box-shadow: 0px 1px 2px rgba(60, 64, 67, 0.3), 0px 1px 3px 1px rgba(60, 64, 67, 0.15);\n",
              "      fill: #174EA6;\n",
              "    }\n",
              "\n",
              "    [theme=dark] .colab-df-convert {\n",
              "      background-color: #3B4455;\n",
              "      fill: #D2E3FC;\n",
              "    }\n",
              "\n",
              "    [theme=dark] .colab-df-convert:hover {\n",
              "      background-color: #434B5C;\n",
              "      box-shadow: 0px 1px 3px 1px rgba(0, 0, 0, 0.15);\n",
              "      filter: drop-shadow(0px 1px 2px rgba(0, 0, 0, 0.3));\n",
              "      fill: #FFFFFF;\n",
              "    }\n",
              "  </style>\n",
              "\n",
              "      <script>\n",
              "        const buttonEl =\n",
              "          document.querySelector('#df-9c60f7be-895f-41d2-b93e-126554dab4b6 button.colab-df-convert');\n",
              "        buttonEl.style.display =\n",
              "          google.colab.kernel.accessAllowed ? 'block' : 'none';\n",
              "\n",
              "        async function convertToInteractive(key) {\n",
              "          const element = document.querySelector('#df-9c60f7be-895f-41d2-b93e-126554dab4b6');\n",
              "          const dataTable =\n",
              "            await google.colab.kernel.invokeFunction('convertToInteractive',\n",
              "                                                     [key], {});\n",
              "          if (!dataTable) return;\n",
              "\n",
              "          const docLinkHtml = 'Like what you see? Visit the ' +\n",
              "            '<a target=\"_blank\" href=https://colab.research.google.com/notebooks/data_table.ipynb>data table notebook</a>'\n",
              "            + ' to learn more about interactive tables.';\n",
              "          element.innerHTML = '';\n",
              "          dataTable['output_type'] = 'display_data';\n",
              "          await google.colab.output.renderOutput(dataTable, element);\n",
              "          const docLink = document.createElement('div');\n",
              "          docLink.innerHTML = docLinkHtml;\n",
              "          element.appendChild(docLink);\n",
              "        }\n",
              "      </script>\n",
              "    </div>\n",
              "  </div>\n",
              "  "
            ]
          },
          "metadata": {},
          "execution_count": 76
        }
      ]
    },
    {
      "cell_type": "code",
      "source": [
        "data = data.drop(columns = ['Unnamed: 5'])"
      ],
      "metadata": {
        "id": "SLb0kY8_zljn"
      },
      "execution_count": 77,
      "outputs": []
    },
    {
      "cell_type": "code",
      "source": [
        "def to_date(row):\n",
        "  row = datetime.strptime(row,'%Y-%m-%d')\n",
        "  return row\n",
        "time = lambda x: x.death - x.diag\n",
        "sex = lambda x: 1 if x.sex == 'M' else 0\n",
        "status = lambda x: 1 if x.status == 'D' else 0\n",
        "def time_days(row):\n",
        "  row = row.days\n",
        "  return row"
      ],
      "metadata": {
        "id": "yE1Kf59N18WO"
      },
      "execution_count": 78,
      "outputs": []
    },
    {
      "cell_type": "markdown",
      "source": [
        "Sex\n",
        "\n",
        "1 - M\n",
        "\n",
        "0 - F\n",
        "\n",
        "Status\n",
        "\n",
        "1 - Dead - D\n",
        "\n",
        "0 - Live - A"
      ],
      "metadata": {
        "id": "ytnuomubB7NM"
      }
    },
    {
      "cell_type": "code",
      "source": [
        "data.death = data.death.apply(to_date)\n",
        "data.diag = data.diag.apply(to_date)\n",
        "data['time'] = data.apply(time, axis=1)\n",
        "data['sex'] = data.apply(sex, axis=1)\n",
        "data['status'] = data.apply(status, axis=1)\n",
        "data['time'] = data['time'].apply(time_days)"
      ],
      "metadata": {
        "id": "4CIOh5rG20pc"
      },
      "execution_count": 79,
      "outputs": []
    },
    {
      "cell_type": "code",
      "source": [
        "data.head()"
      ],
      "metadata": {
        "colab": {
          "base_uri": "https://localhost:8080/",
          "height": 206
        },
        "id": "LzMP9a021QdU",
        "outputId": "dcea6ab6-53ec-4345-eff3-3f25e7aaf389"
      },
      "execution_count": 80,
      "outputs": [
        {
          "output_type": "execute_result",
          "data": {
            "text/plain": [
              "   sex       diag      death  status  age  time\n",
              "0    1 1929-11-08 1930-05-03       1   35   176\n",
              "1    1 1930-03-12 1930-05-18       1   53    67\n",
              "2    1 1926-02-23 1927-05-01       1   42   432\n",
              "3    1 1926-03-21 1926-06-06       1   44    77\n",
              "4    1 1927-06-02 1928-03-03       1   39   275"
            ],
            "text/html": [
              "\n",
              "  <div id=\"df-2336847d-08b4-4515-9c42-abd34e29c20d\">\n",
              "    <div class=\"colab-df-container\">\n",
              "      <div>\n",
              "<style scoped>\n",
              "    .dataframe tbody tr th:only-of-type {\n",
              "        vertical-align: middle;\n",
              "    }\n",
              "\n",
              "    .dataframe tbody tr th {\n",
              "        vertical-align: top;\n",
              "    }\n",
              "\n",
              "    .dataframe thead th {\n",
              "        text-align: right;\n",
              "    }\n",
              "</style>\n",
              "<table border=\"1\" class=\"dataframe\">\n",
              "  <thead>\n",
              "    <tr style=\"text-align: right;\">\n",
              "      <th></th>\n",
              "      <th>sex</th>\n",
              "      <th>diag</th>\n",
              "      <th>death</th>\n",
              "      <th>status</th>\n",
              "      <th>age</th>\n",
              "      <th>time</th>\n",
              "    </tr>\n",
              "  </thead>\n",
              "  <tbody>\n",
              "    <tr>\n",
              "      <th>0</th>\n",
              "      <td>1</td>\n",
              "      <td>1929-11-08</td>\n",
              "      <td>1930-05-03</td>\n",
              "      <td>1</td>\n",
              "      <td>35</td>\n",
              "      <td>176</td>\n",
              "    </tr>\n",
              "    <tr>\n",
              "      <th>1</th>\n",
              "      <td>1</td>\n",
              "      <td>1930-03-12</td>\n",
              "      <td>1930-05-18</td>\n",
              "      <td>1</td>\n",
              "      <td>53</td>\n",
              "      <td>67</td>\n",
              "    </tr>\n",
              "    <tr>\n",
              "      <th>2</th>\n",
              "      <td>1</td>\n",
              "      <td>1926-02-23</td>\n",
              "      <td>1927-05-01</td>\n",
              "      <td>1</td>\n",
              "      <td>42</td>\n",
              "      <td>432</td>\n",
              "    </tr>\n",
              "    <tr>\n",
              "      <th>3</th>\n",
              "      <td>1</td>\n",
              "      <td>1926-03-21</td>\n",
              "      <td>1926-06-06</td>\n",
              "      <td>1</td>\n",
              "      <td>44</td>\n",
              "      <td>77</td>\n",
              "    </tr>\n",
              "    <tr>\n",
              "      <th>4</th>\n",
              "      <td>1</td>\n",
              "      <td>1927-06-02</td>\n",
              "      <td>1928-03-03</td>\n",
              "      <td>1</td>\n",
              "      <td>39</td>\n",
              "      <td>275</td>\n",
              "    </tr>\n",
              "  </tbody>\n",
              "</table>\n",
              "</div>\n",
              "      <button class=\"colab-df-convert\" onclick=\"convertToInteractive('df-2336847d-08b4-4515-9c42-abd34e29c20d')\"\n",
              "              title=\"Convert this dataframe to an interactive table.\"\n",
              "              style=\"display:none;\">\n",
              "        \n",
              "  <svg xmlns=\"http://www.w3.org/2000/svg\" height=\"24px\"viewBox=\"0 0 24 24\"\n",
              "       width=\"24px\">\n",
              "    <path d=\"M0 0h24v24H0V0z\" fill=\"none\"/>\n",
              "    <path d=\"M18.56 5.44l.94 2.06.94-2.06 2.06-.94-2.06-.94-.94-2.06-.94 2.06-2.06.94zm-11 1L8.5 8.5l.94-2.06 2.06-.94-2.06-.94L8.5 2.5l-.94 2.06-2.06.94zm10 10l.94 2.06.94-2.06 2.06-.94-2.06-.94-.94-2.06-.94 2.06-2.06.94z\"/><path d=\"M17.41 7.96l-1.37-1.37c-.4-.4-.92-.59-1.43-.59-.52 0-1.04.2-1.43.59L10.3 9.45l-7.72 7.72c-.78.78-.78 2.05 0 2.83L4 21.41c.39.39.9.59 1.41.59.51 0 1.02-.2 1.41-.59l7.78-7.78 2.81-2.81c.8-.78.8-2.07 0-2.86zM5.41 20L4 18.59l7.72-7.72 1.47 1.35L5.41 20z\"/>\n",
              "  </svg>\n",
              "      </button>\n",
              "      \n",
              "  <style>\n",
              "    .colab-df-container {\n",
              "      display:flex;\n",
              "      flex-wrap:wrap;\n",
              "      gap: 12px;\n",
              "    }\n",
              "\n",
              "    .colab-df-convert {\n",
              "      background-color: #E8F0FE;\n",
              "      border: none;\n",
              "      border-radius: 50%;\n",
              "      cursor: pointer;\n",
              "      display: none;\n",
              "      fill: #1967D2;\n",
              "      height: 32px;\n",
              "      padding: 0 0 0 0;\n",
              "      width: 32px;\n",
              "    }\n",
              "\n",
              "    .colab-df-convert:hover {\n",
              "      background-color: #E2EBFA;\n",
              "      box-shadow: 0px 1px 2px rgba(60, 64, 67, 0.3), 0px 1px 3px 1px rgba(60, 64, 67, 0.15);\n",
              "      fill: #174EA6;\n",
              "    }\n",
              "\n",
              "    [theme=dark] .colab-df-convert {\n",
              "      background-color: #3B4455;\n",
              "      fill: #D2E3FC;\n",
              "    }\n",
              "\n",
              "    [theme=dark] .colab-df-convert:hover {\n",
              "      background-color: #434B5C;\n",
              "      box-shadow: 0px 1px 3px 1px rgba(0, 0, 0, 0.15);\n",
              "      filter: drop-shadow(0px 1px 2px rgba(0, 0, 0, 0.3));\n",
              "      fill: #FFFFFF;\n",
              "    }\n",
              "  </style>\n",
              "\n",
              "      <script>\n",
              "        const buttonEl =\n",
              "          document.querySelector('#df-2336847d-08b4-4515-9c42-abd34e29c20d button.colab-df-convert');\n",
              "        buttonEl.style.display =\n",
              "          google.colab.kernel.accessAllowed ? 'block' : 'none';\n",
              "\n",
              "        async function convertToInteractive(key) {\n",
              "          const element = document.querySelector('#df-2336847d-08b4-4515-9c42-abd34e29c20d');\n",
              "          const dataTable =\n",
              "            await google.colab.kernel.invokeFunction('convertToInteractive',\n",
              "                                                     [key], {});\n",
              "          if (!dataTable) return;\n",
              "\n",
              "          const docLinkHtml = 'Like what you see? Visit the ' +\n",
              "            '<a target=\"_blank\" href=https://colab.research.google.com/notebooks/data_table.ipynb>data table notebook</a>'\n",
              "            + ' to learn more about interactive tables.';\n",
              "          element.innerHTML = '';\n",
              "          dataTable['output_type'] = 'display_data';\n",
              "          await google.colab.output.renderOutput(dataTable, element);\n",
              "          const docLink = document.createElement('div');\n",
              "          docLink.innerHTML = docLinkHtml;\n",
              "          element.appendChild(docLink);\n",
              "        }\n",
              "      </script>\n",
              "    </div>\n",
              "  </div>\n",
              "  "
            ]
          },
          "metadata": {},
          "execution_count": 80
        }
      ]
    },
    {
      "cell_type": "code",
      "source": [
        "data.describe()"
      ],
      "metadata": {
        "colab": {
          "base_uri": "https://localhost:8080/",
          "height": 300
        },
        "id": "x4FYjS5GBmu9",
        "outputId": "a6085b6d-9199-48af-ef08-19ea4c8edf37"
      },
      "execution_count": 81,
      "outputs": [
        {
          "output_type": "execute_result",
          "data": {
            "text/plain": [
              "               sex       status          age         time\n",
              "count  2843.000000  2843.000000  2843.000000  2843.000000\n",
              "mean      0.968695     0.619416    37.409075   405.937390\n",
              "std       0.174171     0.485616    10.063263   363.926581\n",
              "min       0.000000     0.000000     0.000000     1.000000\n",
              "25%       1.000000     0.000000    30.000000   128.000000\n",
              "50%       1.000000     1.000000    37.000000   320.000000\n",
              "75%       1.000000     1.000000    43.000000   583.000000\n",
              "max       1.000000     1.000000    82.000000  2470.000000"
            ],
            "text/html": [
              "\n",
              "  <div id=\"df-c297c830-a097-47f3-972d-baf7389066d0\">\n",
              "    <div class=\"colab-df-container\">\n",
              "      <div>\n",
              "<style scoped>\n",
              "    .dataframe tbody tr th:only-of-type {\n",
              "        vertical-align: middle;\n",
              "    }\n",
              "\n",
              "    .dataframe tbody tr th {\n",
              "        vertical-align: top;\n",
              "    }\n",
              "\n",
              "    .dataframe thead th {\n",
              "        text-align: right;\n",
              "    }\n",
              "</style>\n",
              "<table border=\"1\" class=\"dataframe\">\n",
              "  <thead>\n",
              "    <tr style=\"text-align: right;\">\n",
              "      <th></th>\n",
              "      <th>sex</th>\n",
              "      <th>status</th>\n",
              "      <th>age</th>\n",
              "      <th>time</th>\n",
              "    </tr>\n",
              "  </thead>\n",
              "  <tbody>\n",
              "    <tr>\n",
              "      <th>count</th>\n",
              "      <td>2843.000000</td>\n",
              "      <td>2843.000000</td>\n",
              "      <td>2843.000000</td>\n",
              "      <td>2843.000000</td>\n",
              "    </tr>\n",
              "    <tr>\n",
              "      <th>mean</th>\n",
              "      <td>0.968695</td>\n",
              "      <td>0.619416</td>\n",
              "      <td>37.409075</td>\n",
              "      <td>405.937390</td>\n",
              "    </tr>\n",
              "    <tr>\n",
              "      <th>std</th>\n",
              "      <td>0.174171</td>\n",
              "      <td>0.485616</td>\n",
              "      <td>10.063263</td>\n",
              "      <td>363.926581</td>\n",
              "    </tr>\n",
              "    <tr>\n",
              "      <th>min</th>\n",
              "      <td>0.000000</td>\n",
              "      <td>0.000000</td>\n",
              "      <td>0.000000</td>\n",
              "      <td>1.000000</td>\n",
              "    </tr>\n",
              "    <tr>\n",
              "      <th>25%</th>\n",
              "      <td>1.000000</td>\n",
              "      <td>0.000000</td>\n",
              "      <td>30.000000</td>\n",
              "      <td>128.000000</td>\n",
              "    </tr>\n",
              "    <tr>\n",
              "      <th>50%</th>\n",
              "      <td>1.000000</td>\n",
              "      <td>1.000000</td>\n",
              "      <td>37.000000</td>\n",
              "      <td>320.000000</td>\n",
              "    </tr>\n",
              "    <tr>\n",
              "      <th>75%</th>\n",
              "      <td>1.000000</td>\n",
              "      <td>1.000000</td>\n",
              "      <td>43.000000</td>\n",
              "      <td>583.000000</td>\n",
              "    </tr>\n",
              "    <tr>\n",
              "      <th>max</th>\n",
              "      <td>1.000000</td>\n",
              "      <td>1.000000</td>\n",
              "      <td>82.000000</td>\n",
              "      <td>2470.000000</td>\n",
              "    </tr>\n",
              "  </tbody>\n",
              "</table>\n",
              "</div>\n",
              "      <button class=\"colab-df-convert\" onclick=\"convertToInteractive('df-c297c830-a097-47f3-972d-baf7389066d0')\"\n",
              "              title=\"Convert this dataframe to an interactive table.\"\n",
              "              style=\"display:none;\">\n",
              "        \n",
              "  <svg xmlns=\"http://www.w3.org/2000/svg\" height=\"24px\"viewBox=\"0 0 24 24\"\n",
              "       width=\"24px\">\n",
              "    <path d=\"M0 0h24v24H0V0z\" fill=\"none\"/>\n",
              "    <path d=\"M18.56 5.44l.94 2.06.94-2.06 2.06-.94-2.06-.94-.94-2.06-.94 2.06-2.06.94zm-11 1L8.5 8.5l.94-2.06 2.06-.94-2.06-.94L8.5 2.5l-.94 2.06-2.06.94zm10 10l.94 2.06.94-2.06 2.06-.94-2.06-.94-.94-2.06-.94 2.06-2.06.94z\"/><path d=\"M17.41 7.96l-1.37-1.37c-.4-.4-.92-.59-1.43-.59-.52 0-1.04.2-1.43.59L10.3 9.45l-7.72 7.72c-.78.78-.78 2.05 0 2.83L4 21.41c.39.39.9.59 1.41.59.51 0 1.02-.2 1.41-.59l7.78-7.78 2.81-2.81c.8-.78.8-2.07 0-2.86zM5.41 20L4 18.59l7.72-7.72 1.47 1.35L5.41 20z\"/>\n",
              "  </svg>\n",
              "      </button>\n",
              "      \n",
              "  <style>\n",
              "    .colab-df-container {\n",
              "      display:flex;\n",
              "      flex-wrap:wrap;\n",
              "      gap: 12px;\n",
              "    }\n",
              "\n",
              "    .colab-df-convert {\n",
              "      background-color: #E8F0FE;\n",
              "      border: none;\n",
              "      border-radius: 50%;\n",
              "      cursor: pointer;\n",
              "      display: none;\n",
              "      fill: #1967D2;\n",
              "      height: 32px;\n",
              "      padding: 0 0 0 0;\n",
              "      width: 32px;\n",
              "    }\n",
              "\n",
              "    .colab-df-convert:hover {\n",
              "      background-color: #E2EBFA;\n",
              "      box-shadow: 0px 1px 2px rgba(60, 64, 67, 0.3), 0px 1px 3px 1px rgba(60, 64, 67, 0.15);\n",
              "      fill: #174EA6;\n",
              "    }\n",
              "\n",
              "    [theme=dark] .colab-df-convert {\n",
              "      background-color: #3B4455;\n",
              "      fill: #D2E3FC;\n",
              "    }\n",
              "\n",
              "    [theme=dark] .colab-df-convert:hover {\n",
              "      background-color: #434B5C;\n",
              "      box-shadow: 0px 1px 3px 1px rgba(0, 0, 0, 0.15);\n",
              "      filter: drop-shadow(0px 1px 2px rgba(0, 0, 0, 0.3));\n",
              "      fill: #FFFFFF;\n",
              "    }\n",
              "  </style>\n",
              "\n",
              "      <script>\n",
              "        const buttonEl =\n",
              "          document.querySelector('#df-c297c830-a097-47f3-972d-baf7389066d0 button.colab-df-convert');\n",
              "        buttonEl.style.display =\n",
              "          google.colab.kernel.accessAllowed ? 'block' : 'none';\n",
              "\n",
              "        async function convertToInteractive(key) {\n",
              "          const element = document.querySelector('#df-c297c830-a097-47f3-972d-baf7389066d0');\n",
              "          const dataTable =\n",
              "            await google.colab.kernel.invokeFunction('convertToInteractive',\n",
              "                                                     [key], {});\n",
              "          if (!dataTable) return;\n",
              "\n",
              "          const docLinkHtml = 'Like what you see? Visit the ' +\n",
              "            '<a target=\"_blank\" href=https://colab.research.google.com/notebooks/data_table.ipynb>data table notebook</a>'\n",
              "            + ' to learn more about interactive tables.';\n",
              "          element.innerHTML = '';\n",
              "          dataTable['output_type'] = 'display_data';\n",
              "          await google.colab.output.renderOutput(dataTable, element);\n",
              "          const docLink = document.createElement('div');\n",
              "          docLink.innerHTML = docLinkHtml;\n",
              "          element.appendChild(docLink);\n",
              "        }\n",
              "      </script>\n",
              "    </div>\n",
              "  </div>\n",
              "  "
            ]
          },
          "metadata": {},
          "execution_count": 81
        }
      ]
    },
    {
      "cell_type": "markdown",
      "source": [
        "## Survival Analysis"
      ],
      "metadata": {
        "id": "ofJetmlPCPvR"
      }
    },
    {
      "cell_type": "code",
      "source": [
        "%pip install lifelines"
      ],
      "metadata": {
        "colab": {
          "base_uri": "https://localhost:8080/"
        },
        "id": "Duq2tcY0CVLL",
        "outputId": "96b382a6-9e2f-431b-be2a-f233bd341332"
      },
      "execution_count": 70,
      "outputs": [
        {
          "output_type": "stream",
          "name": "stdout",
          "text": [
            "Looking in indexes: https://pypi.org/simple, https://us-python.pkg.dev/colab-wheels/public/simple/\n",
            "Requirement already satisfied: lifelines in /usr/local/lib/python3.8/dist-packages (0.27.4)\n",
            "Requirement already satisfied: pandas>=1.0.0 in /usr/local/lib/python3.8/dist-packages (from lifelines) (1.3.5)\n",
            "Requirement already satisfied: formulaic>=0.2.2 in /usr/local/lib/python3.8/dist-packages (from lifelines) (0.5.2)\n",
            "Requirement already satisfied: scipy>=1.2.0 in /usr/local/lib/python3.8/dist-packages (from lifelines) (1.7.3)\n",
            "Requirement already satisfied: matplotlib>=3.0 in /usr/local/lib/python3.8/dist-packages (from lifelines) (3.2.2)\n",
            "Requirement already satisfied: autograd>=1.5 in /usr/local/lib/python3.8/dist-packages (from lifelines) (1.5)\n",
            "Requirement already satisfied: numpy>=1.14.0 in /usr/local/lib/python3.8/dist-packages (from lifelines) (1.21.6)\n",
            "Requirement already satisfied: autograd-gamma>=0.3 in /usr/local/lib/python3.8/dist-packages (from lifelines) (0.5.0)\n",
            "Requirement already satisfied: future>=0.15.2 in /usr/local/lib/python3.8/dist-packages (from autograd>=1.5->lifelines) (0.16.0)\n",
            "Requirement already satisfied: interface-meta>=1.2.0 in /usr/local/lib/python3.8/dist-packages (from formulaic>=0.2.2->lifelines) (1.3.0)\n",
            "Requirement already satisfied: graphlib-backport>=1.0.0 in /usr/local/lib/python3.8/dist-packages (from formulaic>=0.2.2->lifelines) (1.0.3)\n",
            "Requirement already satisfied: wrapt>=1.0 in /usr/local/lib/python3.8/dist-packages (from formulaic>=0.2.2->lifelines) (1.14.1)\n",
            "Requirement already satisfied: typing-extensions>=4.2.0 in /usr/local/lib/python3.8/dist-packages (from formulaic>=0.2.2->lifelines) (4.4.0)\n",
            "Requirement already satisfied: astor>=0.8 in /usr/local/lib/python3.8/dist-packages (from formulaic>=0.2.2->lifelines) (0.8.1)\n",
            "Requirement already satisfied: cycler>=0.10 in /usr/local/lib/python3.8/dist-packages (from matplotlib>=3.0->lifelines) (0.11.0)\n",
            "Requirement already satisfied: python-dateutil>=2.1 in /usr/local/lib/python3.8/dist-packages (from matplotlib>=3.0->lifelines) (2.8.2)\n",
            "Requirement already satisfied: pyparsing!=2.0.4,!=2.1.2,!=2.1.6,>=2.0.1 in /usr/local/lib/python3.8/dist-packages (from matplotlib>=3.0->lifelines) (3.0.9)\n",
            "Requirement already satisfied: kiwisolver>=1.0.1 in /usr/local/lib/python3.8/dist-packages (from matplotlib>=3.0->lifelines) (1.4.4)\n",
            "Requirement already satisfied: pytz>=2017.3 in /usr/local/lib/python3.8/dist-packages (from pandas>=1.0.0->lifelines) (2022.6)\n",
            "Requirement already satisfied: six>=1.5 in /usr/local/lib/python3.8/dist-packages (from python-dateutil>=2.1->matplotlib>=3.0->lifelines) (1.15.0)\n"
          ]
        }
      ]
    },
    {
      "cell_type": "markdown",
      "source": [
        "### Filtering data to get only 2 years (max 730 days) of thearpy"
      ],
      "metadata": {
        "id": "vwcmDGxsUVjq"
      }
    },
    {
      "cell_type": "code",
      "source": [
        "data['time2'] = data['time']\n",
        "data['time2'][data['time2'] > 730] = 730\n",
        "data['status2'] = data['status']\n",
        "data['status2'][(data['time'] > 730) & (data['status'] == 1)] = 0\n",
        "data"
      ],
      "metadata": {
        "colab": {
          "base_uri": "https://localhost:8080/",
          "height": 607
        },
        "id": "N46ik7gpRAZY",
        "outputId": "1f26e34e-0feb-40da-9b1c-152fadf60e2c"
      },
      "execution_count": 82,
      "outputs": [
        {
          "output_type": "stream",
          "name": "stderr",
          "text": [
            "<ipython-input-82-b86e6f93436f>:2: SettingWithCopyWarning: \n",
            "A value is trying to be set on a copy of a slice from a DataFrame\n",
            "\n",
            "See the caveats in the documentation: https://pandas.pydata.org/pandas-docs/stable/user_guide/indexing.html#returning-a-view-versus-a-copy\n",
            "  data['time2'][data['time2'] > 730] = 730\n",
            "<ipython-input-82-b86e6f93436f>:4: SettingWithCopyWarning: \n",
            "A value is trying to be set on a copy of a slice from a DataFrame\n",
            "\n",
            "See the caveats in the documentation: https://pandas.pydata.org/pandas-docs/stable/user_guide/indexing.html#returning-a-view-versus-a-copy\n",
            "  data['status2'][(data['time'] > 730) & (data['status'] == 1)] = 0\n"
          ]
        },
        {
          "output_type": "execute_result",
          "data": {
            "text/plain": [
              "      sex       diag      death  status  age  time  time2  status2\n",
              "0       1 1929-11-08 1930-05-03       1   35   176    176        1\n",
              "1       1 1930-03-12 1930-05-18       1   53    67     67        1\n",
              "2       1 1926-02-23 1927-05-01       1   42   432    432        1\n",
              "3       1 1926-03-21 1926-06-06       1   44    77     77        1\n",
              "4       1 1927-06-02 1928-03-03       1   39   275    275        1\n",
              "...   ...        ...        ...     ...  ...   ...    ...      ...\n",
              "2838    1 1931-06-01 1931-06-30       0   46    29     29        0\n",
              "2839    0 1931-04-07 1931-06-30       0   34    84     84        0\n",
              "2840    1 1931-06-22 1931-06-30       0   49     8      8        0\n",
              "2841    1 1931-05-17 1931-06-30       0   55    44     44        0\n",
              "2842    1 1931-05-05 1931-06-30       0   37    56     56        0\n",
              "\n",
              "[2843 rows x 8 columns]"
            ],
            "text/html": [
              "\n",
              "  <div id=\"df-4ce3e9a3-69f2-4d33-9c55-a465e74439d2\">\n",
              "    <div class=\"colab-df-container\">\n",
              "      <div>\n",
              "<style scoped>\n",
              "    .dataframe tbody tr th:only-of-type {\n",
              "        vertical-align: middle;\n",
              "    }\n",
              "\n",
              "    .dataframe tbody tr th {\n",
              "        vertical-align: top;\n",
              "    }\n",
              "\n",
              "    .dataframe thead th {\n",
              "        text-align: right;\n",
              "    }\n",
              "</style>\n",
              "<table border=\"1\" class=\"dataframe\">\n",
              "  <thead>\n",
              "    <tr style=\"text-align: right;\">\n",
              "      <th></th>\n",
              "      <th>sex</th>\n",
              "      <th>diag</th>\n",
              "      <th>death</th>\n",
              "      <th>status</th>\n",
              "      <th>age</th>\n",
              "      <th>time</th>\n",
              "      <th>time2</th>\n",
              "      <th>status2</th>\n",
              "    </tr>\n",
              "  </thead>\n",
              "  <tbody>\n",
              "    <tr>\n",
              "      <th>0</th>\n",
              "      <td>1</td>\n",
              "      <td>1929-11-08</td>\n",
              "      <td>1930-05-03</td>\n",
              "      <td>1</td>\n",
              "      <td>35</td>\n",
              "      <td>176</td>\n",
              "      <td>176</td>\n",
              "      <td>1</td>\n",
              "    </tr>\n",
              "    <tr>\n",
              "      <th>1</th>\n",
              "      <td>1</td>\n",
              "      <td>1930-03-12</td>\n",
              "      <td>1930-05-18</td>\n",
              "      <td>1</td>\n",
              "      <td>53</td>\n",
              "      <td>67</td>\n",
              "      <td>67</td>\n",
              "      <td>1</td>\n",
              "    </tr>\n",
              "    <tr>\n",
              "      <th>2</th>\n",
              "      <td>1</td>\n",
              "      <td>1926-02-23</td>\n",
              "      <td>1927-05-01</td>\n",
              "      <td>1</td>\n",
              "      <td>42</td>\n",
              "      <td>432</td>\n",
              "      <td>432</td>\n",
              "      <td>1</td>\n",
              "    </tr>\n",
              "    <tr>\n",
              "      <th>3</th>\n",
              "      <td>1</td>\n",
              "      <td>1926-03-21</td>\n",
              "      <td>1926-06-06</td>\n",
              "      <td>1</td>\n",
              "      <td>44</td>\n",
              "      <td>77</td>\n",
              "      <td>77</td>\n",
              "      <td>1</td>\n",
              "    </tr>\n",
              "    <tr>\n",
              "      <th>4</th>\n",
              "      <td>1</td>\n",
              "      <td>1927-06-02</td>\n",
              "      <td>1928-03-03</td>\n",
              "      <td>1</td>\n",
              "      <td>39</td>\n",
              "      <td>275</td>\n",
              "      <td>275</td>\n",
              "      <td>1</td>\n",
              "    </tr>\n",
              "    <tr>\n",
              "      <th>...</th>\n",
              "      <td>...</td>\n",
              "      <td>...</td>\n",
              "      <td>...</td>\n",
              "      <td>...</td>\n",
              "      <td>...</td>\n",
              "      <td>...</td>\n",
              "      <td>...</td>\n",
              "      <td>...</td>\n",
              "    </tr>\n",
              "    <tr>\n",
              "      <th>2838</th>\n",
              "      <td>1</td>\n",
              "      <td>1931-06-01</td>\n",
              "      <td>1931-06-30</td>\n",
              "      <td>0</td>\n",
              "      <td>46</td>\n",
              "      <td>29</td>\n",
              "      <td>29</td>\n",
              "      <td>0</td>\n",
              "    </tr>\n",
              "    <tr>\n",
              "      <th>2839</th>\n",
              "      <td>0</td>\n",
              "      <td>1931-04-07</td>\n",
              "      <td>1931-06-30</td>\n",
              "      <td>0</td>\n",
              "      <td>34</td>\n",
              "      <td>84</td>\n",
              "      <td>84</td>\n",
              "      <td>0</td>\n",
              "    </tr>\n",
              "    <tr>\n",
              "      <th>2840</th>\n",
              "      <td>1</td>\n",
              "      <td>1931-06-22</td>\n",
              "      <td>1931-06-30</td>\n",
              "      <td>0</td>\n",
              "      <td>49</td>\n",
              "      <td>8</td>\n",
              "      <td>8</td>\n",
              "      <td>0</td>\n",
              "    </tr>\n",
              "    <tr>\n",
              "      <th>2841</th>\n",
              "      <td>1</td>\n",
              "      <td>1931-05-17</td>\n",
              "      <td>1931-06-30</td>\n",
              "      <td>0</td>\n",
              "      <td>55</td>\n",
              "      <td>44</td>\n",
              "      <td>44</td>\n",
              "      <td>0</td>\n",
              "    </tr>\n",
              "    <tr>\n",
              "      <th>2842</th>\n",
              "      <td>1</td>\n",
              "      <td>1931-05-05</td>\n",
              "      <td>1931-06-30</td>\n",
              "      <td>0</td>\n",
              "      <td>37</td>\n",
              "      <td>56</td>\n",
              "      <td>56</td>\n",
              "      <td>0</td>\n",
              "    </tr>\n",
              "  </tbody>\n",
              "</table>\n",
              "<p>2843 rows × 8 columns</p>\n",
              "</div>\n",
              "      <button class=\"colab-df-convert\" onclick=\"convertToInteractive('df-4ce3e9a3-69f2-4d33-9c55-a465e74439d2')\"\n",
              "              title=\"Convert this dataframe to an interactive table.\"\n",
              "              style=\"display:none;\">\n",
              "        \n",
              "  <svg xmlns=\"http://www.w3.org/2000/svg\" height=\"24px\"viewBox=\"0 0 24 24\"\n",
              "       width=\"24px\">\n",
              "    <path d=\"M0 0h24v24H0V0z\" fill=\"none\"/>\n",
              "    <path d=\"M18.56 5.44l.94 2.06.94-2.06 2.06-.94-2.06-.94-.94-2.06-.94 2.06-2.06.94zm-11 1L8.5 8.5l.94-2.06 2.06-.94-2.06-.94L8.5 2.5l-.94 2.06-2.06.94zm10 10l.94 2.06.94-2.06 2.06-.94-2.06-.94-.94-2.06-.94 2.06-2.06.94z\"/><path d=\"M17.41 7.96l-1.37-1.37c-.4-.4-.92-.59-1.43-.59-.52 0-1.04.2-1.43.59L10.3 9.45l-7.72 7.72c-.78.78-.78 2.05 0 2.83L4 21.41c.39.39.9.59 1.41.59.51 0 1.02-.2 1.41-.59l7.78-7.78 2.81-2.81c.8-.78.8-2.07 0-2.86zM5.41 20L4 18.59l7.72-7.72 1.47 1.35L5.41 20z\"/>\n",
              "  </svg>\n",
              "      </button>\n",
              "      \n",
              "  <style>\n",
              "    .colab-df-container {\n",
              "      display:flex;\n",
              "      flex-wrap:wrap;\n",
              "      gap: 12px;\n",
              "    }\n",
              "\n",
              "    .colab-df-convert {\n",
              "      background-color: #E8F0FE;\n",
              "      border: none;\n",
              "      border-radius: 50%;\n",
              "      cursor: pointer;\n",
              "      display: none;\n",
              "      fill: #1967D2;\n",
              "      height: 32px;\n",
              "      padding: 0 0 0 0;\n",
              "      width: 32px;\n",
              "    }\n",
              "\n",
              "    .colab-df-convert:hover {\n",
              "      background-color: #E2EBFA;\n",
              "      box-shadow: 0px 1px 2px rgba(60, 64, 67, 0.3), 0px 1px 3px 1px rgba(60, 64, 67, 0.15);\n",
              "      fill: #174EA6;\n",
              "    }\n",
              "\n",
              "    [theme=dark] .colab-df-convert {\n",
              "      background-color: #3B4455;\n",
              "      fill: #D2E3FC;\n",
              "    }\n",
              "\n",
              "    [theme=dark] .colab-df-convert:hover {\n",
              "      background-color: #434B5C;\n",
              "      box-shadow: 0px 1px 3px 1px rgba(0, 0, 0, 0.15);\n",
              "      filter: drop-shadow(0px 1px 2px rgba(0, 0, 0, 0.3));\n",
              "      fill: #FFFFFF;\n",
              "    }\n",
              "  </style>\n",
              "\n",
              "      <script>\n",
              "        const buttonEl =\n",
              "          document.querySelector('#df-4ce3e9a3-69f2-4d33-9c55-a465e74439d2 button.colab-df-convert');\n",
              "        buttonEl.style.display =\n",
              "          google.colab.kernel.accessAllowed ? 'block' : 'none';\n",
              "\n",
              "        async function convertToInteractive(key) {\n",
              "          const element = document.querySelector('#df-4ce3e9a3-69f2-4d33-9c55-a465e74439d2');\n",
              "          const dataTable =\n",
              "            await google.colab.kernel.invokeFunction('convertToInteractive',\n",
              "                                                     [key], {});\n",
              "          if (!dataTable) return;\n",
              "\n",
              "          const docLinkHtml = 'Like what you see? Visit the ' +\n",
              "            '<a target=\"_blank\" href=https://colab.research.google.com/notebooks/data_table.ipynb>data table notebook</a>'\n",
              "            + ' to learn more about interactive tables.';\n",
              "          element.innerHTML = '';\n",
              "          dataTable['output_type'] = 'display_data';\n",
              "          await google.colab.output.renderOutput(dataTable, element);\n",
              "          const docLink = document.createElement('div');\n",
              "          docLink.innerHTML = docLinkHtml;\n",
              "          element.appendChild(docLink);\n",
              "        }\n",
              "      </script>\n",
              "    </div>\n",
              "  </div>\n",
              "  "
            ]
          },
          "metadata": {},
          "execution_count": 82
        }
      ]
    },
    {
      "cell_type": "markdown",
      "source": [
        "## Kaplan-Meier for 2nd year\n"
      ],
      "metadata": {
        "id": "gydWF5GVQxWY"
      }
    },
    {
      "cell_type": "code",
      "source": [
        "import lifelines\n",
        "from lifelines import KaplanMeierFitter\n",
        "from matplotlib import pyplot as plt"
      ],
      "metadata": {
        "id": "FRU07CwNC792"
      },
      "execution_count": 83,
      "outputs": []
    },
    {
      "cell_type": "markdown",
      "source": [],
      "metadata": {
        "id": "SAl2K0IU4phH"
      }
    },
    {
      "cell_type": "code",
      "source": [
        "male = (data[\"sex\"]==1)\n",
        "female = (data[\"sex\"]==0)\n",
        "\n",
        "ax = plt.subplot(111)\n",
        "kmf = KaplanMeierFitter()\n",
        "kmf.fit(data[male][\"time2\"],data[male][\"status2\"],label=\"male\")\n",
        "kmf.plot_survival_function(ax=ax)\n",
        "\n",
        "kmf.fit(data[female][\"time2\"],data[female][\"status2\"],label=\"female\")\n",
        "kmf.plot_survival_function(ax=ax)\n",
        "\n",
        "plt.show()"
      ],
      "metadata": {
        "colab": {
          "base_uri": "https://localhost:8080/",
          "height": 279
        },
        "id": "-BCDq2ZSxLOb",
        "outputId": "dda48322-8c9d-4933-cea6-39c0c6682e01"
      },
      "execution_count": 47,
      "outputs": [
        {
          "output_type": "display_data",
          "data": {
            "text/plain": [
              "<Figure size 432x288 with 1 Axes>"
            ],
            "image/png": "[encoded data removed]"
          },
          "metadata": {
            "needs_background": "light"
          }
        }
      ]
    },
    {
      "cell_type": "markdown",
      "source": [
        "## Logrank test"
      ],
      "metadata": {
        "id": "BhU63SR74qS8"
      }
    },
    {
      "cell_type": "markdown",
      "source": [
        "H0: Male and Female patients have the same survival curves\n",
        "\n",
        "H1: Male and Female patients have different survival curves"
      ],
      "metadata": {
        "id": "lgBzvwbEZR37"
      }
    },
    {
      "cell_type": "code",
      "source": [
        "from lifelines.statistics import logrank_test\n",
        "logrank = logrank_test(data[male][\"time2\"], data[female][\"time2\"], data[male][\"status2\"], data[female][\"status2\"])\n",
        "logrank.p_value"
      ],
      "metadata": {
        "colab": {
          "base_uri": "https://localhost:8080/"
        },
        "id": "h7zcJRkK5KP3",
        "outputId": "463851c3-aa0e-4559-c172-43d93d7eaf57"
      },
      "execution_count": 49,
      "outputs": [
        {
          "output_type": "execute_result",
          "data": {
            "text/plain": [
              "0.5946427341149176"
            ]
          },
          "metadata": {},
          "execution_count": 49
        }
      ]
    },
    {
      "cell_type": "markdown",
      "source": [
        "H0: Male and Female patients have the same survival curves"
      ],
      "metadata": {
        "id": "rwWBQos26LTO"
      }
    },
    {
      "cell_type": "markdown",
      "source": [
        "## Weibul distribution"
      ],
      "metadata": {
        "id": "uKo2aKS2TgZ_"
      }
    },
    {
      "cell_type": "code",
      "source": [
        "from lifelines import WeibullFitter\n",
        "wb = WeibullFitter()\n",
        "ax = plt.subplot(111)\n",
        "wb.fit(data[male][\"time2\"],data[male][\"status2\"],label=\"male\")\n",
        "wb.survival_function_.plot(ax=ax)\n",
        "wb.fit(data[female][\"time2\"],data[female][\"status2\"],label=\"female\")\n",
        "wb.survival_function_.plot(ax=ax)\n",
        "plt.show()"
      ],
      "metadata": {
        "colab": {
          "base_uri": "https://localhost:8080/",
          "height": 265
        },
        "id": "al6URPV77gMg",
        "outputId": "da5df7ad-b63b-4f2a-86d4-1fa12b8c23f2"
      },
      "execution_count": 54,
      "outputs": [
        {
          "output_type": "display_data",
          "data": {
            "text/plain": [
              "<Figure size 432x288 with 1 Axes>"
            ],
            "image/png": "[encoded data removed]"
          },
          "metadata": {
            "needs_background": "light"
          }
        }
      ]
    },
    {
      "cell_type": "code",
      "source": [
        "print(wb.lambda_, wb.rho_)\n",
        "print(wb.predict(20))"
      ],
      "metadata": {
        "colab": {
          "base_uri": "https://localhost:8080/"
        },
        "id": "puzjN7O4GMsm",
        "outputId": "1b95d9bc-d2fa-467b-e1d1-7a8d120bef79"
      },
      "execution_count": 55,
      "outputs": [
        {
          "output_type": "stream",
          "name": "stdout",
          "text": [
            "870.5870888639881 0.6142470950650616\n",
            "0.906206678072434\n"
          ]
        }
      ]
    },
    {
      "cell_type": "markdown",
      "source": [
        "## Comparison"
      ],
      "metadata": {
        "id": "FamVgThLQrZp"
      }
    },
    {
      "cell_type": "code",
      "source": [
        "from lifelines.plotting import qq_plot \n",
        "from lifelines import WeibullFitter, ExponentialFitter, LogNormalFitter\n",
        "for model in [WeibullFitter(),\n",
        "              LogNormalFitter(),\n",
        "              ExponentialFitter()]:\n",
        "  model.fit(data[\"time2\"],data[\"status2\"])\n",
        "  model.plot_survival_function(ax = ax)\n",
        "  qq_plot(model)\n",
        "  plt.show()"
      ],
      "metadata": {
        "colab": {
          "base_uri": "https://localhost:8080/",
          "height": 803
        },
        "id": "w9LmDbmWG0DT",
        "outputId": "5181203c-5a55-45e6-d66e-994537f00292"
      },
      "execution_count": 57,
      "outputs": [
        {
          "output_type": "display_data",
          "data": {
            "text/plain": [
              "<Figure size 432x288 with 1 Axes>"
            ],
            "image/png": "[encoded data removed]"
          },
          "metadata": {
            "needs_background": "light"
          }
        },
        {
          "output_type": "display_data",
          "data": {
            "text/plain": [
              "<Figure size 432x288 with 1 Axes>"
            ],
            "image/png": "[encoded data removed]"
          },
          "metadata": {
            "needs_background": "light"
          }
        },
        {
          "output_type": "display_data",
          "data": {
            "text/plain": [
              "<Figure size 432x288 with 1 Axes>"
            ],
            "image/png": "[encoded data removed]"
          },
          "metadata": {
            "needs_background": "light"
          }
        }
      ]
    },
    {
      "cell_type": "markdown",
      "source": [
        "The best qqplot has the Exponential distribution"
      ],
      "metadata": {
        "id": "0iUqhfCCbZhw"
      }
    },
    {
      "cell_type": "code",
      "source": [
        "wb = WeibullFitter().fit(data[\"time\"],data[\"status\"])\n",
        "exp = ExponentialFitter().fit(data[\"time\"],data[\"status\"])\n",
        "log_n = LogNormalFitter().fit(data[\"time\"],data[\"status\"])\n",
        "\n",
        "print(wb.AIC_, exp.AIC_, log_n.AIC_)"
      ],
      "metadata": {
        "colab": {
          "base_uri": "https://localhost:8080/"
        },
        "id": "DvA115TVItcx",
        "outputId": "e8b17ecf-f442-43b6-9964-9286897431c9"
      },
      "execution_count": 58,
      "outputs": [
        {
          "output_type": "stream",
          "name": "stdout",
          "text": [
            "26334.99075850715 26364.793180007837 26816.853987007118\n"
          ]
        }
      ]
    },
    {
      "cell_type": "markdown",
      "source": [
        "The best AIC has the Weibull distribution"
      ],
      "metadata": {
        "id": "4aUKnaY-bYvK"
      }
    },
    {
      "cell_type": "markdown",
      "source": [
        "## Cox"
      ],
      "metadata": {
        "id": "0VmN6HAUQmFu"
      }
    },
    {
      "cell_type": "code",
      "source": [
        "data2 = data.drop(columns = ['diag', 'death', 'time', 'status'])\n",
        "data1 = data.drop(columns = ['diag', 'death', 'time2', 'status2'])"
      ],
      "metadata": {
        "id": "XVmtX8aCU6BL"
      },
      "execution_count": 84,
      "outputs": []
    },
    {
      "cell_type": "code",
      "source": [
        "from lifelines import CoxPHFitter\n",
        "coxph = CoxPHFitter()\n",
        "coxph.fit(df=data2, duration_col=\"time2\", event_col=\"status2\")\n",
        "coxph.summary"
      ],
      "metadata": {
        "colab": {
          "base_uri": "https://localhost:8080/",
          "height": 143
        },
        "id": "c7GWEL61JL41",
        "outputId": "17c24818-e3d4-434e-b5dd-c1539ae1ec33"
      },
      "execution_count": 85,
      "outputs": [
        {
          "output_type": "execute_result",
          "data": {
            "text/plain": [
              "               coef  exp(coef)  se(coef)  coef lower 95%  coef upper 95%  \\\n",
              "covariate                                                                  \n",
              "sex        0.060917   1.062810  0.149712       -0.232513        0.354346   \n",
              "age        0.017569   1.017724  0.002617        0.012439        0.022698   \n",
              "\n",
              "           exp(coef) lower 95%  exp(coef) upper 95%  cmp to         z  \\\n",
              "covariate                                                               \n",
              "sex                   0.792540             1.425248     0.0  0.406892   \n",
              "age                   1.012517             1.022957     0.0  6.713316   \n",
              "\n",
              "                      p   -log2(p)  \n",
              "covariate                           \n",
              "sex        6.840870e-01   0.547748  \n",
              "age        1.902502e-11  35.613311  "
            ],
            "text/html": [
              "\n",
              "  <div id=\"df-9d7c9888-d2c1-42ea-8c7d-d62fe7124a35\">\n",
              "    <div class=\"colab-df-container\">\n",
              "      <div>\n",
              "<style scoped>\n",
              "    .dataframe tbody tr th:only-of-type {\n",
              "        vertical-align: middle;\n",
              "    }\n",
              "\n",
              "    .dataframe tbody tr th {\n",
              "        vertical-align: top;\n",
              "    }\n",
              "\n",
              "    .dataframe thead th {\n",
              "        text-align: right;\n",
              "    }\n",
              "</style>\n",
              "<table border=\"1\" class=\"dataframe\">\n",
              "  <thead>\n",
              "    <tr style=\"text-align: right;\">\n",
              "      <th></th>\n",
              "      <th>coef</th>\n",
              "      <th>exp(coef)</th>\n",
              "      <th>se(coef)</th>\n",
              "      <th>coef lower 95%</th>\n",
              "      <th>coef upper 95%</th>\n",
              "      <th>exp(coef) lower 95%</th>\n",
              "      <th>exp(coef) upper 95%</th>\n",
              "      <th>cmp to</th>\n",
              "      <th>z</th>\n",
              "      <th>p</th>\n",
              "      <th>-log2(p)</th>\n",
              "    </tr>\n",
              "    <tr>\n",
              "      <th>covariate</th>\n",
              "      <th></th>\n",
              "      <th></th>\n",
              "      <th></th>\n",
              "      <th></th>\n",
              "      <th></th>\n",
              "      <th></th>\n",
              "      <th></th>\n",
              "      <th></th>\n",
              "      <th></th>\n",
              "      <th></th>\n",
              "      <th></th>\n",
              "    </tr>\n",
              "  </thead>\n",
              "  <tbody>\n",
              "    <tr>\n",
              "      <th>sex</th>\n",
              "      <td>0.060917</td>\n",
              "      <td>1.062810</td>\n",
              "      <td>0.149712</td>\n",
              "      <td>-0.232513</td>\n",
              "      <td>0.354346</td>\n",
              "      <td>0.792540</td>\n",
              "      <td>1.425248</td>\n",
              "      <td>0.0</td>\n",
              "      <td>0.406892</td>\n",
              "      <td>6.840870e-01</td>\n",
              "      <td>0.547748</td>\n",
              "    </tr>\n",
              "    <tr>\n",
              "      <th>age</th>\n",
              "      <td>0.017569</td>\n",
              "      <td>1.017724</td>\n",
              "      <td>0.002617</td>\n",
              "      <td>0.012439</td>\n",
              "      <td>0.022698</td>\n",
              "      <td>1.012517</td>\n",
              "      <td>1.022957</td>\n",
              "      <td>0.0</td>\n",
              "      <td>6.713316</td>\n",
              "      <td>1.902502e-11</td>\n",
              "      <td>35.613311</td>\n",
              "    </tr>\n",
              "  </tbody>\n",
              "</table>\n",
              "</div>\n",
              "      <button class=\"colab-df-convert\" onclick=\"convertToInteractive('df-9d7c9888-d2c1-42ea-8c7d-d62fe7124a35')\"\n",
              "              title=\"Convert this dataframe to an interactive table.\"\n",
              "              style=\"display:none;\">\n",
              "        \n",
              "  <svg xmlns=\"http://www.w3.org/2000/svg\" height=\"24px\"viewBox=\"0 0 24 24\"\n",
              "       width=\"24px\">\n",
              "    <path d=\"M0 0h24v24H0V0z\" fill=\"none\"/>\n",
              "    <path d=\"M18.56 5.44l.94 2.06.94-2.06 2.06-.94-2.06-.94-.94-2.06-.94 2.06-2.06.94zm-11 1L8.5 8.5l.94-2.06 2.06-.94-2.06-.94L8.5 2.5l-.94 2.06-2.06.94zm10 10l.94 2.06.94-2.06 2.06-.94-2.06-.94-.94-2.06-.94 2.06-2.06.94z\"/><path d=\"M17.41 7.96l-1.37-1.37c-.4-.4-.92-.59-1.43-.59-.52 0-1.04.2-1.43.59L10.3 9.45l-7.72 7.72c-.78.78-.78 2.05 0 2.83L4 21.41c.39.39.9.59 1.41.59.51 0 1.02-.2 1.41-.59l7.78-7.78 2.81-2.81c.8-.78.8-2.07 0-2.86zM5.41 20L4 18.59l7.72-7.72 1.47 1.35L5.41 20z\"/>\n",
              "  </svg>\n",
              "      </button>\n",
              "      \n",
              "  <style>\n",
              "    .colab-df-container {\n",
              "      display:flex;\n",
              "      flex-wrap:wrap;\n",
              "      gap: 12px;\n",
              "    }\n",
              "\n",
              "    .colab-df-convert {\n",
              "      background-color: #E8F0FE;\n",
              "      border: none;\n",
              "      border-radius: 50%;\n",
              "      cursor: pointer;\n",
              "      display: none;\n",
              "      fill: #1967D2;\n",
              "      height: 32px;\n",
              "      padding: 0 0 0 0;\n",
              "      width: 32px;\n",
              "    }\n",
              "\n",
              "    .colab-df-convert:hover {\n",
              "      background-color: #E2EBFA;\n",
              "      box-shadow: 0px 1px 2px rgba(60, 64, 67, 0.3), 0px 1px 3px 1px rgba(60, 64, 67, 0.15);\n",
              "      fill: #174EA6;\n",
              "    }\n",
              "\n",
              "    [theme=dark] .colab-df-convert {\n",
              "      background-color: #3B4455;\n",
              "      fill: #D2E3FC;\n",
              "    }\n",
              "\n",
              "    [theme=dark] .colab-df-convert:hover {\n",
              "      background-color: #434B5C;\n",
              "      box-shadow: 0px 1px 3px 1px rgba(0, 0, 0, 0.15);\n",
              "      filter: drop-shadow(0px 1px 2px rgba(0, 0, 0, 0.3));\n",
              "      fill: #FFFFFF;\n",
              "    }\n",
              "  </style>\n",
              "\n",
              "      <script>\n",
              "        const buttonEl =\n",
              "          document.querySelector('#df-9d7c9888-d2c1-42ea-8c7d-d62fe7124a35 button.colab-df-convert');\n",
              "        buttonEl.style.display =\n",
              "          google.colab.kernel.accessAllowed ? 'block' : 'none';\n",
              "\n",
              "        async function convertToInteractive(key) {\n",
              "          const element = document.querySelector('#df-9d7c9888-d2c1-42ea-8c7d-d62fe7124a35');\n",
              "          const dataTable =\n",
              "            await google.colab.kernel.invokeFunction('convertToInteractive',\n",
              "                                                     [key], {});\n",
              "          if (!dataTable) return;\n",
              "\n",
              "          const docLinkHtml = 'Like what you see? Visit the ' +\n",
              "            '<a target=\"_blank\" href=https://colab.research.google.com/notebooks/data_table.ipynb>data table notebook</a>'\n",
              "            + ' to learn more about interactive tables.';\n",
              "          element.innerHTML = '';\n",
              "          dataTable['output_type'] = 'display_data';\n",
              "          await google.colab.output.renderOutput(dataTable, element);\n",
              "          const docLink = document.createElement('div');\n",
              "          docLink.innerHTML = docLinkHtml;\n",
              "          element.appendChild(docLink);\n",
              "        }\n",
              "      </script>\n",
              "    </div>\n",
              "  </div>\n",
              "  "
            ]
          },
          "metadata": {},
          "execution_count": 85
        }
      ]
    },
    {
      "cell_type": "code",
      "source": [
        "coxph.check_assumptions(data2, p_value_threshold=0.05)\n",
        "#coxph.predict_median(X, conditional_after)\n",
        "#coxph.predict_survival_function(X, conditional_after)"
      ],
      "metadata": {
        "colab": {
          "base_uri": "https://localhost:8080/",
          "height": 980
        },
        "id": "AIJxESYcRFKr",
        "outputId": "1f6a7abd-3a7d-4d02-837a-a101d6325992"
      },
      "execution_count": 86,
      "outputs": [
        {
          "output_type": "stream",
          "name": "stdout",
          "text": [
            "The ``p_value_threshold`` is set at 0.05. Even under the null hypothesis of no violations, some\n",
            "covariates will be below the threshold by chance. This is compounded when there are many covariates.\n",
            "Similarly, when there are lots of observations, even minor deviances from the proportional hazard\n",
            "assumption will be flagged.\n",
            "\n",
            "With that in mind, it's best to use a combination of statistical tests and visual tests to determine\n",
            "the most serious violations. Produce visual plots using ``check_assumptions(..., show_plots=True)``\n",
            "and looking for non-constant lines. See link [A] below for a full example.\n",
            "\n"
          ]
        },
        {
          "output_type": "display_data",
          "data": {
            "text/plain": [
              "<lifelines.StatisticalResult: proportional_hazard_test>\n",
              " null_distribution = chi squared\n",
              "degrees_of_freedom = 1\n",
              "             model = <lifelines.CoxPHFitter: fitted with 2843 total observations, 1294 right-censored observations>\n",
              "         test_name = proportional_hazard_test\n",
              "\n",
              "---\n",
              "          test_statistic      p  -log2(p)\n",
              "age km             18.37 <0.005     15.75\n",
              "    rank           17.13 <0.005     14.80\n",
              "sex km              5.43   0.02      5.66\n",
              "    rank            5.86   0.02      6.01"
            ],
            "text/html": [
              "<div>\n",
              "<style scoped>\n",
              "    .dataframe tbody tr th:only-of-type {\n",
              "        vertical-align: middle;\n",
              "    }\n",
              "\n",
              "    .dataframe tbody tr th {\n",
              "        vertical-align: top;\n",
              "    }\n",
              "\n",
              "    .dataframe thead th {\n",
              "        text-align: right;\n",
              "    }\n",
              "</style>\n",
              "<table border=\"1\" class=\"dataframe\">\n",
              "  <tbody>\n",
              "    <tr>\n",
              "      <th>null_distribution</th>\n",
              "      <td>chi squared</td>\n",
              "    </tr>\n",
              "    <tr>\n",
              "      <th>degrees_of_freedom</th>\n",
              "      <td>1</td>\n",
              "    </tr>\n",
              "    <tr>\n",
              "      <th>model</th>\n",
              "      <td>&lt;lifelines.CoxPHFitter: fitted with 2843 total...</td>\n",
              "    </tr>\n",
              "    <tr>\n",
              "      <th>test_name</th>\n",
              "      <td>proportional_hazard_test</td>\n",
              "    </tr>\n",
              "  </tbody>\n",
              "</table>\n",
              "</div><table border=\"1\" class=\"dataframe\">\n",
              "  <thead>\n",
              "    <tr style=\"text-align: right;\">\n",
              "      <th></th>\n",
              "      <th></th>\n",
              "      <th>test_statistic</th>\n",
              "      <th>p</th>\n",
              "      <th>-log2(p)</th>\n",
              "    </tr>\n",
              "  </thead>\n",
              "  <tbody>\n",
              "    <tr>\n",
              "      <th rowspan=\"2\" valign=\"top\">age</th>\n",
              "      <th>km</th>\n",
              "      <td>18.37</td>\n",
              "      <td>&lt;0.005</td>\n",
              "      <td>15.75</td>\n",
              "    </tr>\n",
              "    <tr>\n",
              "      <th>rank</th>\n",
              "      <td>17.13</td>\n",
              "      <td>&lt;0.005</td>\n",
              "      <td>14.80</td>\n",
              "    </tr>\n",
              "    <tr>\n",
              "      <th rowspan=\"2\" valign=\"top\">sex</th>\n",
              "      <th>km</th>\n",
              "      <td>5.43</td>\n",
              "      <td>0.02</td>\n",
              "      <td>5.66</td>\n",
              "    </tr>\n",
              "    <tr>\n",
              "      <th>rank</th>\n",
              "      <td>5.86</td>\n",
              "      <td>0.02</td>\n",
              "      <td>6.01</td>\n",
              "    </tr>\n",
              "  </tbody>\n",
              "</table>"
            ],
            "text/latex": "\\begin{tabular}{llrrr}\n{} & {} & {test_statistic} & {p} & {-log2(p)} \\\\\n\\multirow[c]{2}{*}{age} & km & 18.37 & 0.00 & 15.75 \\\\\n & rank & 17.13 & 0.00 & 14.80 \\\\\n\\multirow[c]{2}{*}{sex} & km & 5.43 & 0.02 & 5.66 \\\\\n & rank & 5.86 & 0.02 & 6.01 \\\\\n\\end{tabular}\n"
          },
          "metadata": {}
        },
        {
          "output_type": "stream",
          "name": "stdout",
          "text": [
            "\n",
            "\n",
            "1. Variable 'sex' failed the non-proportional test: p-value is 0.0155.\n",
            "\n",
            "   Advice: with so few unique values (only 2), you can include `strata=['sex', ...]` in the call in\n",
            "`.fit`. See documentation in link [E] below.\n",
            "\n",
            "2. Variable 'age' failed the non-proportional test: p-value is <5e-05.\n",
            "\n",
            "   Advice 1: the functional form of the variable 'age' might be incorrect. That is, there may be\n",
            "non-linear terms missing. The proportional hazard test used is very sensitive to incorrect\n",
            "functional forms. See documentation in link [D] below on how to specify a functional form.\n",
            "\n",
            "   Advice 2: try binning the variable 'age' using pd.cut, and then specify it in `strata=['age',\n",
            "...]` in the call in `.fit`. See documentation in link [B] below.\n",
            "\n",
            "   Advice 3: try adding an interaction term with your time variable. See documentation in link [C]\n",
            "below.\n",
            "\n",
            "\n",
            "---\n",
            "[A]  https://lifelines.readthedocs.io/en/latest/jupyter_notebooks/Proportional%20hazard%20assumption.html\n",
            "[B]  https://lifelines.readthedocs.io/en/latest/jupyter_notebooks/Proportional%20hazard%20assumption.html#Bin-variable-and-stratify-on-it\n",
            "[C]  https://lifelines.readthedocs.io/en/latest/jupyter_notebooks/Proportional%20hazard%20assumption.html#Introduce-time-varying-covariates\n",
            "[D]  https://lifelines.readthedocs.io/en/latest/jupyter_notebooks/Proportional%20hazard%20assumption.html#Modify-the-functional-form\n",
            "[E]  https://lifelines.readthedocs.io/en/latest/jupyter_notebooks/Proportional%20hazard%20assumption.html#Stratification\n",
            "\n"
          ]
        },
        {
          "output_type": "execute_result",
          "data": {
            "text/plain": [
              "[]"
            ]
          },
          "metadata": {},
          "execution_count": 86
        }
      ]
    },
    {
      "cell_type": "code",
      "source": [
        "coxph = CoxPHFitter()\n",
        "coxph.fit(df=data1, duration_col=\"time\", event_col=\"status\")\n",
        "coxph.summary"
      ],
      "metadata": {
        "colab": {
          "base_uri": "https://localhost:8080/",
          "height": 143
        },
        "id": "SJ45vY3Ut0Z7",
        "outputId": "05a63029-93ba-46c7-dfb3-b4e9a64f9c9a"
      },
      "execution_count": 87,
      "outputs": [
        {
          "output_type": "execute_result",
          "data": {
            "text/plain": [
              "               coef  exp(coef)  se(coef)  coef lower 95%  coef upper 95%  \\\n",
              "covariate                                                                  \n",
              "sex        0.104277   1.109908  0.139598       -0.169329        0.377884   \n",
              "age        0.015087   1.015201  0.002457        0.010272        0.019902   \n",
              "\n",
              "           exp(coef) lower 95%  exp(coef) upper 95%  cmp to         z  \\\n",
              "covariate                                                               \n",
              "sex                   0.844231             1.459194     0.0  0.746984   \n",
              "age                   1.010325             1.020102     0.0  6.140792   \n",
              "\n",
              "                      p   -log2(p)  \n",
              "covariate                           \n",
              "sex        4.550734e-01   1.135829  \n",
              "age        8.211122e-10  30.181702  "
            ],
            "text/html": [
              "\n",
              "  <div id=\"df-3631c9cf-6ab7-43db-8550-1e3fb1cb200f\">\n",
              "    <div class=\"colab-df-container\">\n",
              "      <div>\n",
              "<style scoped>\n",
              "    .dataframe tbody tr th:only-of-type {\n",
              "        vertical-align: middle;\n",
              "    }\n",
              "\n",
              "    .dataframe tbody tr th {\n",
              "        vertical-align: top;\n",
              "    }\n",
              "\n",
              "    .dataframe thead th {\n",
              "        text-align: right;\n",
              "    }\n",
              "</style>\n",
              "<table border=\"1\" class=\"dataframe\">\n",
              "  <thead>\n",
              "    <tr style=\"text-align: right;\">\n",
              "      <th></th>\n",
              "      <th>coef</th>\n",
              "      <th>exp(coef)</th>\n",
              "      <th>se(coef)</th>\n",
              "      <th>coef lower 95%</th>\n",
              "      <th>coef upper 95%</th>\n",
              "      <th>exp(coef) lower 95%</th>\n",
              "      <th>exp(coef) upper 95%</th>\n",
              "      <th>cmp to</th>\n",
              "      <th>z</th>\n",
              "      <th>p</th>\n",
              "      <th>-log2(p)</th>\n",
              "    </tr>\n",
              "    <tr>\n",
              "      <th>covariate</th>\n",
              "      <th></th>\n",
              "      <th></th>\n",
              "      <th></th>\n",
              "      <th></th>\n",
              "      <th></th>\n",
              "      <th></th>\n",
              "      <th></th>\n",
              "      <th></th>\n",
              "      <th></th>\n",
              "      <th></th>\n",
              "      <th></th>\n",
              "    </tr>\n",
              "  </thead>\n",
              "  <tbody>\n",
              "    <tr>\n",
              "      <th>sex</th>\n",
              "      <td>0.104277</td>\n",
              "      <td>1.109908</td>\n",
              "      <td>0.139598</td>\n",
              "      <td>-0.169329</td>\n",
              "      <td>0.377884</td>\n",
              "      <td>0.844231</td>\n",
              "      <td>1.459194</td>\n",
              "      <td>0.0</td>\n",
              "      <td>0.746984</td>\n",
              "      <td>4.550734e-01</td>\n",
              "      <td>1.135829</td>\n",
              "    </tr>\n",
              "    <tr>\n",
              "      <th>age</th>\n",
              "      <td>0.015087</td>\n",
              "      <td>1.015201</td>\n",
              "      <td>0.002457</td>\n",
              "      <td>0.010272</td>\n",
              "      <td>0.019902</td>\n",
              "      <td>1.010325</td>\n",
              "      <td>1.020102</td>\n",
              "      <td>0.0</td>\n",
              "      <td>6.140792</td>\n",
              "      <td>8.211122e-10</td>\n",
              "      <td>30.181702</td>\n",
              "    </tr>\n",
              "  </tbody>\n",
              "</table>\n",
              "</div>\n",
              "      <button class=\"colab-df-convert\" onclick=\"convertToInteractive('df-3631c9cf-6ab7-43db-8550-1e3fb1cb200f')\"\n",
              "              title=\"Convert this dataframe to an interactive table.\"\n",
              "              style=\"display:none;\">\n",
              "        \n",
              "  <svg xmlns=\"http://www.w3.org/2000/svg\" height=\"24px\"viewBox=\"0 0 24 24\"\n",
              "       width=\"24px\">\n",
              "    <path d=\"M0 0h24v24H0V0z\" fill=\"none\"/>\n",
              "    <path d=\"M18.56 5.44l.94 2.06.94-2.06 2.06-.94-2.06-.94-.94-2.06-.94 2.06-2.06.94zm-11 1L8.5 8.5l.94-2.06 2.06-.94-2.06-.94L8.5 2.5l-.94 2.06-2.06.94zm10 10l.94 2.06.94-2.06 2.06-.94-2.06-.94-.94-2.06-.94 2.06-2.06.94z\"/><path d=\"M17.41 7.96l-1.37-1.37c-.4-.4-.92-.59-1.43-.59-.52 0-1.04.2-1.43.59L10.3 9.45l-7.72 7.72c-.78.78-.78 2.05 0 2.83L4 21.41c.39.39.9.59 1.41.59.51 0 1.02-.2 1.41-.59l7.78-7.78 2.81-2.81c.8-.78.8-2.07 0-2.86zM5.41 20L4 18.59l7.72-7.72 1.47 1.35L5.41 20z\"/>\n",
              "  </svg>\n",
              "      </button>\n",
              "      \n",
              "  <style>\n",
              "    .colab-df-container {\n",
              "      display:flex;\n",
              "      flex-wrap:wrap;\n",
              "      gap: 12px;\n",
              "    }\n",
              "\n",
              "    .colab-df-convert {\n",
              "      background-color: #E8F0FE;\n",
              "      border: none;\n",
              "      border-radius: 50%;\n",
              "      cursor: pointer;\n",
              "      display: none;\n",
              "      fill: #1967D2;\n",
              "      height: 32px;\n",
              "      padding: 0 0 0 0;\n",
              "      width: 32px;\n",
              "    }\n",
              "\n",
              "    .colab-df-convert:hover {\n",
              "      background-color: #E2EBFA;\n",
              "      box-shadow: 0px 1px 2px rgba(60, 64, 67, 0.3), 0px 1px 3px 1px rgba(60, 64, 67, 0.15);\n",
              "      fill: #174EA6;\n",
              "    }\n",
              "\n",
              "    [theme=dark] .colab-df-convert {\n",
              "      background-color: #3B4455;\n",
              "      fill: #D2E3FC;\n",
              "    }\n",
              "\n",
              "    [theme=dark] .colab-df-convert:hover {\n",
              "      background-color: #434B5C;\n",
              "      box-shadow: 0px 1px 3px 1px rgba(0, 0, 0, 0.15);\n",
              "      filter: drop-shadow(0px 1px 2px rgba(0, 0, 0, 0.3));\n",
              "      fill: #FFFFFF;\n",
              "    }\n",
              "  </style>\n",
              "\n",
              "      <script>\n",
              "        const buttonEl =\n",
              "          document.querySelector('#df-3631c9cf-6ab7-43db-8550-1e3fb1cb200f button.colab-df-convert');\n",
              "        buttonEl.style.display =\n",
              "          google.colab.kernel.accessAllowed ? 'block' : 'none';\n",
              "\n",
              "        async function convertToInteractive(key) {\n",
              "          const element = document.querySelector('#df-3631c9cf-6ab7-43db-8550-1e3fb1cb200f');\n",
              "          const dataTable =\n",
              "            await google.colab.kernel.invokeFunction('convertToInteractive',\n",
              "                                                     [key], {});\n",
              "          if (!dataTable) return;\n",
              "\n",
              "          const docLinkHtml = 'Like what you see? Visit the ' +\n",
              "            '<a target=\"_blank\" href=https://colab.research.google.com/notebooks/data_table.ipynb>data table notebook</a>'\n",
              "            + ' to learn more about interactive tables.';\n",
              "          element.innerHTML = '';\n",
              "          dataTable['output_type'] = 'display_data';\n",
              "          await google.colab.output.renderOutput(dataTable, element);\n",
              "          const docLink = document.createElement('div');\n",
              "          docLink.innerHTML = docLinkHtml;\n",
              "          element.appendChild(docLink);\n",
              "        }\n",
              "      </script>\n",
              "    </div>\n",
              "  </div>\n",
              "  "
            ]
          },
          "metadata": {},
          "execution_count": 87
        }
      ]
    },
    {
      "cell_type": "code",
      "source": [
        "coxph.check_assumptions(data1, p_value_threshold=0.05)\n",
        "#coxph.predict_median(X, conditional_after)\n",
        "#coxph.predict_survival_function(X, conditional_after)"
      ],
      "metadata": {
        "colab": {
          "base_uri": "https://localhost:8080/",
          "height": 980
        },
        "outputId": "9df90e0d-0c3e-4ff6-c2e7-f68b8103598b",
        "id": "eaUUuCJxtZzi"
      },
      "execution_count": 88,
      "outputs": [
        {
          "output_type": "stream",
          "name": "stdout",
          "text": [
            "The ``p_value_threshold`` is set at 0.05. Even under the null hypothesis of no violations, some\n",
            "covariates will be below the threshold by chance. This is compounded when there are many covariates.\n",
            "Similarly, when there are lots of observations, even minor deviances from the proportional hazard\n",
            "assumption will be flagged.\n",
            "\n",
            "With that in mind, it's best to use a combination of statistical tests and visual tests to determine\n",
            "the most serious violations. Produce visual plots using ``check_assumptions(..., show_plots=True)``\n",
            "and looking for non-constant lines. See link [A] below for a full example.\n",
            "\n"
          ]
        },
        {
          "output_type": "display_data",
          "data": {
            "text/plain": [
              "<lifelines.StatisticalResult: proportional_hazard_test>\n",
              " null_distribution = chi squared\n",
              "degrees_of_freedom = 1\n",
              "             model = <lifelines.CoxPHFitter: fitted with 2843 total observations, 1082 right-censored observations>\n",
              "         test_name = proportional_hazard_test\n",
              "\n",
              "---\n",
              "          test_statistic      p  -log2(p)\n",
              "age km             25.91 <0.005     21.42\n",
              "    rank           25.21 <0.005     20.89\n",
              "sex km              5.47   0.02      5.69\n",
              "    rank            6.21   0.01      6.30"
            ],
            "text/html": [
              "<div>\n",
              "<style scoped>\n",
              "    .dataframe tbody tr th:only-of-type {\n",
              "        vertical-align: middle;\n",
              "    }\n",
              "\n",
              "    .dataframe tbody tr th {\n",
              "        vertical-align: top;\n",
              "    }\n",
              "\n",
              "    .dataframe thead th {\n",
              "        text-align: right;\n",
              "    }\n",
              "</style>\n",
              "<table border=\"1\" class=\"dataframe\">\n",
              "  <tbody>\n",
              "    <tr>\n",
              "      <th>null_distribution</th>\n",
              "      <td>chi squared</td>\n",
              "    </tr>\n",
              "    <tr>\n",
              "      <th>degrees_of_freedom</th>\n",
              "      <td>1</td>\n",
              "    </tr>\n",
              "    <tr>\n",
              "      <th>model</th>\n",
              "      <td>&lt;lifelines.CoxPHFitter: fitted with 2843 total...</td>\n",
              "    </tr>\n",
              "    <tr>\n",
              "      <th>test_name</th>\n",
              "      <td>proportional_hazard_test</td>\n",
              "    </tr>\n",
              "  </tbody>\n",
              "</table>\n",
              "</div><table border=\"1\" class=\"dataframe\">\n",
              "  <thead>\n",
              "    <tr style=\"text-align: right;\">\n",
              "      <th></th>\n",
              "      <th></th>\n",
              "      <th>test_statistic</th>\n",
              "      <th>p</th>\n",
              "      <th>-log2(p)</th>\n",
              "    </tr>\n",
              "  </thead>\n",
              "  <tbody>\n",
              "    <tr>\n",
              "      <th rowspan=\"2\" valign=\"top\">age</th>\n",
              "      <th>km</th>\n",
              "      <td>25.91</td>\n",
              "      <td>&lt;0.005</td>\n",
              "      <td>21.42</td>\n",
              "    </tr>\n",
              "    <tr>\n",
              "      <th>rank</th>\n",
              "      <td>25.21</td>\n",
              "      <td>&lt;0.005</td>\n",
              "      <td>20.89</td>\n",
              "    </tr>\n",
              "    <tr>\n",
              "      <th rowspan=\"2\" valign=\"top\">sex</th>\n",
              "      <th>km</th>\n",
              "      <td>5.47</td>\n",
              "      <td>0.02</td>\n",
              "      <td>5.69</td>\n",
              "    </tr>\n",
              "    <tr>\n",
              "      <th>rank</th>\n",
              "      <td>6.21</td>\n",
              "      <td>0.01</td>\n",
              "      <td>6.30</td>\n",
              "    </tr>\n",
              "  </tbody>\n",
              "</table>"
            ],
            "text/latex": "\\begin{tabular}{llrrr}\n{} & {} & {test_statistic} & {p} & {-log2(p)} \\\\\n\\multirow[c]{2}{*}{age} & km & 25.91 & 0.00 & 21.42 \\\\\n & rank & 25.21 & 0.00 & 20.89 \\\\\n\\multirow[c]{2}{*}{sex} & km & 5.47 & 0.02 & 5.69 \\\\\n & rank & 6.21 & 0.01 & 6.30 \\\\\n\\end{tabular}\n"
          },
          "metadata": {}
        },
        {
          "output_type": "stream",
          "name": "stdout",
          "text": [
            "\n",
            "\n",
            "1. Variable 'sex' failed the non-proportional test: p-value is 0.0127.\n",
            "\n",
            "   Advice: with so few unique values (only 2), you can include `strata=['sex', ...]` in the call in\n",
            "`.fit`. See documentation in link [E] below.\n",
            "\n",
            "2. Variable 'age' failed the non-proportional test: p-value is <5e-05.\n",
            "\n",
            "   Advice 1: the functional form of the variable 'age' might be incorrect. That is, there may be\n",
            "non-linear terms missing. The proportional hazard test used is very sensitive to incorrect\n",
            "functional forms. See documentation in link [D] below on how to specify a functional form.\n",
            "\n",
            "   Advice 2: try binning the variable 'age' using pd.cut, and then specify it in `strata=['age',\n",
            "...]` in the call in `.fit`. See documentation in link [B] below.\n",
            "\n",
            "   Advice 3: try adding an interaction term with your time variable. See documentation in link [C]\n",
            "below.\n",
            "\n",
            "\n",
            "---\n",
            "[A]  https://lifelines.readthedocs.io/en/latest/jupyter_notebooks/Proportional%20hazard%20assumption.html\n",
            "[B]  https://lifelines.readthedocs.io/en/latest/jupyter_notebooks/Proportional%20hazard%20assumption.html#Bin-variable-and-stratify-on-it\n",
            "[C]  https://lifelines.readthedocs.io/en/latest/jupyter_notebooks/Proportional%20hazard%20assumption.html#Introduce-time-varying-covariates\n",
            "[D]  https://lifelines.readthedocs.io/en/latest/jupyter_notebooks/Proportional%20hazard%20assumption.html#Modify-the-functional-form\n",
            "[E]  https://lifelines.readthedocs.io/en/latest/jupyter_notebooks/Proportional%20hazard%20assumption.html#Stratification\n",
            "\n"
          ]
        },
        {
          "output_type": "execute_result",
          "data": {
            "text/plain": [
              "[]"
            ]
          },
          "metadata": {},
          "execution_count": 88
        }
      ]
    },
    {
      "cell_type": "markdown",
      "source": [
        "There is no significant difference in influence of sex and age on the status of patient between 2 and 5 years"
      ],
      "metadata": {
        "id": "oOij5qcZvGe7"
      }
    }
  ]
}